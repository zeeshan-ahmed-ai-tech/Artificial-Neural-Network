{
  "nbformat": 4,
  "nbformat_minor": 0,
  "metadata": {
    "colab": {
      "provenance": [],
      "gpuType": "T4",
      "authorship_tag": "ABX9TyOoZym4ZqGy8c1RrejFtmgq",
      "include_colab_link": true
    },
    "kernelspec": {
      "name": "python3",
      "display_name": "Python 3"
    },
    "language_info": {
      "name": "python"
    },
    "accelerator": "GPU"
  },
  "cells": [
    {
      "cell_type": "markdown",
      "metadata": {
        "id": "view-in-github",
        "colab_type": "text"
      },
      "source": [
        "<a href=\"https://colab.research.google.com/github/zeeshan-ahmed-ai-tech/Artificial-Neural-Network/blob/main/lab(01)_pytorch.ipynb\" target=\"_parent\"><img src=\"https://colab.research.google.com/assets/colab-badge.svg\" alt=\"Open In Colab\"/></a>"
      ]
    },
    {
      "cell_type": "code",
      "execution_count": null,
      "metadata": {
        "colab": {
          "base_uri": "https://localhost:8080/"
        },
        "id": "LYGMdCwk1MDk",
        "outputId": "225aaf1a-a584-4cea-aa67-9ee099690a25"
      },
      "outputs": [
        {
          "output_type": "stream",
          "name": "stdout",
          "text": [
            "hello world\n"
          ]
        }
      ],
      "source": [
        "print(\"hello world\")"
      ]
    },
    {
      "cell_type": "code",
      "source": [
        "import torch\n",
        "torch.__version__\n",
        "torch.tensor([[1,2,3],[4,5,6]],dtype=torch.int32)"
      ],
      "metadata": {
        "colab": {
          "base_uri": "https://localhost:8080/"
        },
        "id": "2OcCfSSo9Fkj",
        "outputId": "622056ec-4bcd-467a-d114-d6eceedf9c29"
      },
      "execution_count": null,
      "outputs": [
        {
          "output_type": "execute_result",
          "data": {
            "text/plain": [
              "tensor([[1, 2, 3],\n",
              "        [4, 5, 6]], dtype=torch.int32)"
            ]
          },
          "metadata": {},
          "execution_count": 4
        }
      ]
    },
    {
      "cell_type": "code",
      "source": [
        "torch.zeros((3,5))"
      ],
      "metadata": {
        "colab": {
          "base_uri": "https://localhost:8080/"
        },
        "id": "LSJI5q2I9Rds",
        "outputId": "aace6818-b65d-45ce-b6e5-d7a0eadc6e30"
      },
      "execution_count": null,
      "outputs": [
        {
          "output_type": "execute_result",
          "data": {
            "text/plain": [
              "tensor([[0., 0., 0., 0., 0.],\n",
              "        [0., 0., 0., 0., 0.],\n",
              "        [0., 0., 0., 0., 0.]])"
            ]
          },
          "metadata": {},
          "execution_count": 5
        }
      ]
    },
    {
      "cell_type": "code",
      "source": [
        "torch.eye(3)\n"
      ],
      "metadata": {
        "colab": {
          "base_uri": "https://localhost:8080/"
        },
        "id": "ceHl6PN8APTl",
        "outputId": "b8faff93-9372-485a-f31c-1319b3bf56c8"
      },
      "execution_count": null,
      "outputs": [
        {
          "output_type": "execute_result",
          "data": {
            "text/plain": [
              "tensor([[1., 0., 0.],\n",
              "        [0., 1., 0.],\n",
              "        [0., 0., 1.]])"
            ]
          },
          "metadata": {},
          "execution_count": 8
        }
      ]
    },
    {
      "cell_type": "code",
      "source": [
        "torch.randint(0, 10, (3, 3))"
      ],
      "metadata": {
        "colab": {
          "base_uri": "https://localhost:8080/"
        },
        "id": "ymAZhVEqAov4",
        "outputId": "1f395a1f-e342-4431-a464-52d7259db10b"
      },
      "execution_count": null,
      "outputs": [
        {
          "output_type": "execute_result",
          "data": {
            "text/plain": [
              "tensor([[4, 5, 4],\n",
              "        [1, 4, 0],\n",
              "        [1, 6, 5]])"
            ]
          },
          "metadata": {},
          "execution_count": 12
        }
      ]
    },
    {
      "cell_type": "code",
      "source": [
        "import numpy as np\n",
        "t= torch.tensor([[1,2,3],[4,5,6]],dtype=torch.float32)\n",
        "n= t.numpy()\n",
        "print(n)"
      ],
      "metadata": {
        "colab": {
          "base_uri": "https://localhost:8080/"
        },
        "id": "C8BLQ0fmCRtW",
        "outputId": "b083a885-5ff0-4b48-a6d8-e6aea4b2dec3"
      },
      "execution_count": null,
      "outputs": [
        {
          "output_type": "stream",
          "name": "stdout",
          "text": [
            "[[1. 2. 3.]\n",
            " [4. 5. 6.]]\n"
          ]
        }
      ]
    },
    {
      "cell_type": "code",
      "source": [
        "arr = np.random.randint(0, 10, (3, 3))\n",
        "print(arr)\n"
      ],
      "metadata": {
        "colab": {
          "base_uri": "https://localhost:8080/"
        },
        "id": "9sWTHokhCXHN",
        "outputId": "5cbb8537-8340-4031-8a0b-905ccaf2e302"
      },
      "execution_count": null,
      "outputs": [
        {
          "output_type": "stream",
          "name": "stdout",
          "text": [
            "[[8 4 0]\n",
            " [5 4 5]\n",
            " [2 3 4]]\n"
          ]
        }
      ]
    },
    {
      "cell_type": "code",
      "source": [
        "# Create a random NumPy array (3x3)\n",
        "arr = np.random.randint(0, 10, (3, 3))\n",
        "print(\"NumPy Array:\")\n",
        "print(arr)\n",
        "\n",
        "# Convert NumPy array to PyTorch tensor\n",
        "tensor_arr = torch.from_numpy(arr)\n",
        "print(\"\\nConverted to Tensor:\")\n",
        "print(tensor_arr)\n"
      ],
      "metadata": {
        "colab": {
          "base_uri": "https://localhost:8080/"
        },
        "id": "6_EBqMAlDTz_",
        "outputId": "0e5c0ff2-c3dc-48b8-9023-2436e66f19d7"
      },
      "execution_count": null,
      "outputs": [
        {
          "output_type": "stream",
          "name": "stdout",
          "text": [
            "NumPy Array:\n",
            "[[7 4 1]\n",
            " [6 3 1]\n",
            " [8 8 6]]\n",
            "\n",
            "Converted to Tensor:\n",
            "tensor([[7, 4, 1],\n",
            "        [6, 3, 1],\n",
            "        [8, 8, 6]])\n"
          ]
        }
      ]
    },
    {
      "cell_type": "code",
      "source": [
        "n=np.random.rand(3,3).astype(np.float16)\n",
        "t = torch.from_numpy(n)\n",
        "print(t)"
      ],
      "metadata": {
        "colab": {
          "base_uri": "https://localhost:8080/"
        },
        "id": "Aj85koJgD33P",
        "outputId": "8a0b86f3-95c7-49f6-dd4a-a1c39ae68e46"
      },
      "execution_count": null,
      "outputs": [
        {
          "output_type": "stream",
          "name": "stdout",
          "text": [
            "tensor([[0.5459, 0.1692, 0.1907],\n",
            "        [0.1555, 0.5918, 0.6069],\n",
            "        [0.0630, 0.8940, 0.2615]], dtype=torch.float16)\n"
          ]
        }
      ]
    },
    {
      "cell_type": "code",
      "source": [
        "# Create a 3x3 tensor filled with 1s\n",
        "M = torch.ones(3, 3)\n",
        "\n",
        "# Set diagonal elements to 2\n",
        "M.fill_diagonal_(2)\n",
        "\n",
        "print(M)"
      ],
      "metadata": {
        "colab": {
          "base_uri": "https://localhost:8080/"
        },
        "id": "60RASd7hFIlN",
        "outputId": "3910711d-a4d8-49a4-f0f2-35ac0219e0c5"
      },
      "execution_count": null,
      "outputs": [
        {
          "output_type": "stream",
          "name": "stdout",
          "text": [
            "tensor([[2., 1., 1.],\n",
            "        [1., 2., 1.],\n",
            "        [1., 1., 2.]])\n"
          ]
        }
      ]
    },
    {
      "cell_type": "code",
      "source": [
        "t.device"
      ],
      "metadata": {
        "colab": {
          "base_uri": "https://localhost:8080/"
        },
        "id": "IuKFeOZhGE5p",
        "outputId": "096801fb-b568-4f61-e90a-80651f27f7a7"
      },
      "execution_count": null,
      "outputs": [
        {
          "output_type": "execute_result",
          "data": {
            "text/plain": [
              "device(type='cpu')"
            ]
          },
          "metadata": {},
          "execution_count": 24
        }
      ]
    },
    {
      "cell_type": "code",
      "source": [
        "# Step 1: Create a random matrix X ∈ R^(m×n)\n",
        "m, n = 4, 5\n",
        "X = torch.randn(m, n)\n",
        "print(\"Matrix X:\")\n",
        "print(X)\n",
        "\n",
        "# Step 2: Create a matrix Y ∈ R^(m×3) filled with ones (same number of rows as X)\n",
        "Y = torch.ones(m, 3)\n",
        "print(\"\\nMatrix Y:\")\n",
        "print(Y)"
      ],
      "metadata": {
        "colab": {
          "base_uri": "https://localhost:8080/"
        },
        "id": "pZm7ua_5HC2w",
        "outputId": "b681307a-01c5-41b1-a3fc-ddebec75f116"
      },
      "execution_count": null,
      "outputs": [
        {
          "output_type": "stream",
          "name": "stdout",
          "text": [
            "Matrix X:\n",
            "tensor([[-0.3851, -0.8488, -0.1821,  0.1433, -2.2875],\n",
            "        [ 0.6899, -1.1710,  0.2456, -0.7612,  2.1977],\n",
            "        [-0.4339,  1.1205,  0.0628,  0.6720,  1.3606],\n",
            "        [-1.9385, -0.1280,  1.2025, -2.1365,  0.1533]])\n",
            "\n",
            "Matrix Y:\n",
            "tensor([[1., 1., 1.],\n",
            "        [1., 1., 1.],\n",
            "        [1., 1., 1.],\n",
            "        [1., 1., 1.]])\n"
          ]
        }
      ]
    }
  ]
}