{
  "nbformat": 4,
  "nbformat_minor": 0,
  "metadata": {
    "colab": {
      "provenance": [],
      "authorship_tag": "ABX9TyOe/1/XNftkW1MWcxpR6IWq",
      "include_colab_link": true
    },
    "kernelspec": {
      "name": "python3",
      "display_name": "Python 3"
    },
    "language_info": {
      "name": "python"
    }
  },
  "cells": [
    {
      "cell_type": "markdown",
      "metadata": {
        "id": "view-in-github",
        "colab_type": "text"
      },
      "source": [
        "<a href=\"https://colab.research.google.com/github/zeeshan-ahmed-ai-tech/Artificial-Neural-Network/blob/main/PyTorch_Examples.ipynb\" target=\"_parent\"><img src=\"https://colab.research.google.com/assets/colab-badge.svg\" alt=\"Open In Colab\"/></a>"
      ]
    },
    {
      "cell_type": "code",
      "execution_count": 1,
      "metadata": {
        "colab": {
          "base_uri": "https://localhost:8080/"
        },
        "id": "WJpblWBLS9KE",
        "outputId": "81a9d140-2da6-49b0-dabb-d63fc4782d76"
      },
      "outputs": [
        {
          "output_type": "stream",
          "name": "stdout",
          "text": [
            "Epoch 1: Loss = 0.8122\n",
            "Epoch 2: Loss = 0.7878\n",
            "Epoch 3: Loss = 0.7642\n",
            "Epoch 4: Loss = 0.7413\n",
            "Epoch 5: Loss = 0.7190\n"
          ]
        }
      ],
      "source": [
        "import torch\n",
        "import torch.nn as nn\n",
        "import torch.optim as optim\n",
        "\n",
        "#  Model create (2 input → 1 output)\n",
        "class SimpleNN(nn.Module):\n",
        "    def __init__(self):\n",
        "        super().__init__()\n",
        "        self.layer = nn.Linear(2, 1)\n",
        "\n",
        "    def forward(self, x):\n",
        "        return self.layer(x)\n",
        "\n",
        "#  Model create\n",
        "model = SimpleNN()\n",
        "\n",
        "#  Loss function and optimizer\n",
        "loss_fn = nn.MSELoss()\n",
        "optimizer = optim.SGD(model.parameters(), lr=0.1)\n",
        "\n",
        "# : Data\n",
        "x = torch.tensor([[1.0, 2.0], [2.0, 3.0]])\n",
        "y = torch.tensor([[1.0], [2.0]])\n",
        "\n",
        "#  Training\n",
        "for epoch in range(5):\n",
        "    y_pred = model(x)\n",
        "    loss = loss_fn(y_pred, y)\n",
        "\n",
        "    optimizer.zero_grad()\n",
        "    loss.backward()\n",
        "    optimizer.step()\n",
        "\n",
        "    print(f\"Epoch {epoch+1}: Loss = {loss.item():.4f}\")\n"
      ]
    }
  ]
}